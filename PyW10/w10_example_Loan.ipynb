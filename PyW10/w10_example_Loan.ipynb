{
 "cells": [
  {
   "cell_type": "code",
   "execution_count": 1,
   "metadata": {},
   "outputs": [],
   "source": [
    "import pickle\n",
    "ofname = open('dataset_small.pkl','rb') \n",
    "(x,y)=pickle.load(ofname,encoding='bytes')"
   ]
  },
  {
   "cell_type": "code",
   "execution_count": 2,
   "metadata": {},
   "outputs": [
    {
     "data": {
      "text/plain": [
       "array([-1., -1., -1., ..., -1., -1., -1.])"
      ]
     },
     "execution_count": 2,
     "metadata": {},
     "output_type": "execute_result"
    }
   ],
   "source": [
    "# The first model is KNN\n",
    "\n",
    "from sklearn import neighbors\n",
    "# Create an instance of K-nearest neighbor classifier \n",
    "# We choose k=11\n",
    "knn = neighbors.KNeighborsClassifier(n_neighbors = 11)\n",
    "\n",
    "# Estimator interface\n",
    "knn.fit(x,y)\n",
    "\n",
    "# Predictor interface\n",
    "yhat=knn.predict(x)\n",
    "yhat"
   ]
  },
  {
   "cell_type": "code",
   "execution_count": 3,
   "metadata": {},
   "outputs": [
    {
     "data": {
      "text/plain": [
       "0.8316425120772947"
      ]
     },
     "execution_count": 3,
     "metadata": {},
     "output_type": "execute_result"
    }
   ],
   "source": [
    "# Score method gives accuracy of model\n",
    "knn.score(x,y)"
   ]
  },
  {
   "cell_type": "code",
   "execution_count": 4,
   "metadata": {},
   "outputs": [
    {
     "name": "stdout",
     "output_type": "stream",
     "text": [
      "TP:  3370 , FP:  690\n",
      "FN:  7 , TN:  73\n"
     ]
    }
   ],
   "source": [
    "# Constructing a confusion matrix\n",
    "\n",
    "# TP: correct prediction on rejected loan\n",
    "# FP: false prediction on rejected loan\n",
    "# FN: false prediction on accepted loan\n",
    "# TN: correct prediction on accepted loan\n",
    "\n",
    "# Golden standard:\n",
    "# TP FP\n",
    "# FN TN\n",
    "import numpy as np\n",
    "TP=sum(np.logical_and(y==-1, yhat==-1))\n",
    "FP=sum(np.logical_and(y==1, yhat==-1))\n",
    "FN=sum(np.logical_and(y==-1, yhat==1))\n",
    "TN=sum(np.logical_and(y==1, yhat==1))\n",
    "print('TP: ', TP, ', FP: ', FP)\n",
    "print('FN: ', FN, ', TN: ', TN)"
   ]
  },
  {
   "cell_type": "code",
   "execution_count": 5,
   "metadata": {},
   "outputs": [
    {
     "name": "stdout",
     "output_type": "stream",
     "text": [
      "0.8316425120772947\n"
     ]
    },
    {
     "data": {
      "text/plain": [
       "array([[3370,  690],\n",
       "       [   7,   73]], dtype=int64)"
      ]
     },
     "execution_count": 5,
     "metadata": {},
     "output_type": "execute_result"
    }
   ],
   "source": [
    "# Short cut is sklearn.metrics\n",
    "from sklearn import metrics \n",
    "\n",
    "# Accuracy score\n",
    "print(metrics.accuracy_score(yhat, y))\n",
    "\n",
    "# Confusion matrix\n",
    "metrics.confusion_matrix(yhat, y, labels=[-1,1])\n",
    "# Lables assigns variable orders\n",
    "# in this case, \"-1\", rejection of loan, is treated as positive"
   ]
  },
  {
   "cell_type": "code",
   "execution_count": null,
   "metadata": {
    "collapsed": true
   },
   "outputs": [],
   "source": []
  },
  {
   "cell_type": "code",
   "execution_count": 6,
   "metadata": {
    "collapsed": true
   },
   "outputs": [],
   "source": [
    "# sklean.cross_validation will be removed in next update\n",
    "# Here, we will use sklearn.model_selection"
   ]
  },
  {
   "cell_type": "code",
   "execution_count": 6,
   "metadata": {},
   "outputs": [],
   "source": [
    "# Train/Test split and Cross sampling\n",
    "from sklearn.model_selection import train_test_split"
   ]
  },
  {
   "cell_type": "code",
   "execution_count": 7,
   "metadata": {},
   "outputs": [],
   "source": [
    "# train_test_split(x,y) gives output as list\n",
    "# assign testing size to be 30%\n",
    "PRC=0.3\n",
    "X_train , X_test , y_train , y_test = train_test_split(x, y, test_size = PRC)"
   ]
  },
  {
   "cell_type": "code",
   "execution_count": 9,
   "metadata": {},
   "outputs": [
    {
     "name": "stdout",
     "output_type": "stream",
     "text": [
      "0.834943639291\n"
     ]
    },
    {
     "data": {
      "text/plain": [
       "array([[1023,  199],\n",
       "       [   6,   14]])"
      ]
     },
     "execution_count": 9,
     "metadata": {},
     "output_type": "execute_result"
    }
   ],
   "source": [
    "knn = neighbors.KNeighborsClassifier(n_neighbors = 11)\n",
    "knn.fit(X_train,y_train)\n",
    "yhat_test=knn.predict(X_test)\n",
    "print(metrics.accuracy_score(yhat_test, y_test))\n",
    "metrics.confusion_matrix(yhat_test, y_test, labels=[-1,1])"
   ]
  },
  {
   "cell_type": "code",
   "execution_count": null,
   "metadata": {
    "collapsed": true
   },
   "outputs": [],
   "source": []
  },
  {
   "cell_type": "code",
   "execution_count": 8,
   "metadata": {},
   "outputs": [
    {
     "name": "stdout",
     "output_type": "stream",
     "text": [
      "[1 2 6 8 9] [0 3 4 5 7]\n",
      "[0 3 4 5 7] [1 2 6 8 9]\n"
     ]
    }
   ],
   "source": [
    "# K-fold Cross validation\n",
    "from sklearn import model_selection\n",
    "\n",
    "# Firstly, create a CV class\n",
    "# n_splits: K\n",
    "# shuffle to indicate random selection\n",
    "cv=model_selection.KFold(\n",
    "    n_splits = 2,shuffle=True)\n",
    "\n",
    "# Split method will give a set of INDEX to split data\n",
    "cv=cv.split([1,2,3,4,5,6,7,8,9,10])\n",
    "\n",
    "# Output is in form:\n",
    "# [ split 1: [ Test ], [ Train ] ]\n",
    "# [ split 2: [ Test ], [ Train ] ]\n",
    "# [ split 3: [ Test ], [ Train ] ]\n",
    "# ...\n",
    "for i in cv:\n",
    "    print(i[0],i[1])\n",
    "\n",
    "#### Remember: this is index, not data ####"
   ]
  },
  {
   "cell_type": "code",
   "execution_count": null,
   "metadata": {},
   "outputs": [],
   "source": []
  },
  {
   "cell_type": "code",
   "execution_count": 9,
   "metadata": {},
   "outputs": [
    {
     "name": "stdout",
     "output_type": "stream",
     "text": [
      "[0.80434783 0.80917874 0.84541063 0.82850242 0.81884058 0.82125604\n",
      " 0.84299517 0.80917874 0.82850242 0.81642512]\n"
     ]
    }
   ],
   "source": [
    "# Loan example: 10-fold CV\n",
    "k_fold=10\n",
    "cv=model_selection.KFold(\n",
    "    n_splits = k_fold,shuffle=True)\n",
    "cv=cv.split(x)\n",
    "\n",
    "# Make a place-holder for model score\n",
    "score_11nn=np.asarray([])\n",
    "\n",
    "# Loop to train/test KNN model, k_knn=11\n",
    "k_knn=11\n",
    "for train, test in cv: \n",
    "# Take every element of CV and split into train and test\n",
    "    x_train=x[train]\n",
    "    y_train=y[train]\n",
    "    x_test=x[test]\n",
    "    y_test=y[test]\n",
    "    # Train and score model\n",
    "    knn = neighbors.KNeighborsClassifier(n_neighbors = k_knn)\n",
    "    knn.fit(x_train,y_train)\n",
    "    yhat_test=knn.predict(x_test)\n",
    "    score=metrics.accuracy_score(yhat_test, y_test)\n",
    "    score_11nn=np.append(score_11nn,score)\n",
    "print(score_11nn)"
   ]
  },
  {
   "cell_type": "code",
   "execution_count": 10,
   "metadata": {},
   "outputs": [
    {
     "data": {
      "text/plain": [
       "<matplotlib.figure.Figure at 0x26846b655c0>"
      ]
     },
     "metadata": {},
     "output_type": "display_data"
    }
   ],
   "source": [
    "import matplotlib.pyplot as plt\n",
    "boxp=plt.boxplot(score_11nn)\n",
    "plt.show()"
   ]
  }
 ],
 "metadata": {
  "kernelspec": {
   "display_name": "Python 3",
   "language": "python",
   "name": "python3"
  },
  "language_info": {
   "codemirror_mode": {
    "name": "ipython",
    "version": 3
   },
   "file_extension": ".py",
   "mimetype": "text/x-python",
   "name": "python",
   "nbconvert_exporter": "python",
   "pygments_lexer": "ipython3",
   "version": "3.6.4"
  }
 },
 "nbformat": 4,
 "nbformat_minor": 2
}
