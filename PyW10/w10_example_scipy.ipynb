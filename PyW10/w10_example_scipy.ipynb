{
 "cells": [
  {
   "cell_type": "code",
   "execution_count": 1,
   "metadata": {},
   "outputs": [
    {
     "data": {
      "text/plain": [
       "array([ 2.75107875,  3.97744349,  4.31571681,  4.2916725 ])"
      ]
     },
     "execution_count": 1,
     "metadata": {},
     "output_type": "execute_result"
    }
   ],
   "source": [
    "# Example 1: optimisation\n",
    "# Fitting data to normal distribution, with known variance, by MLE \n",
    "\n",
    "# We use generated data for this example\n",
    "# Scipy has built in function for normal distribution\n",
    "from scipy.stats import norm\n",
    "# There are many more in package\"stats\", \n",
    "# such as pearson, gamma, log-normal distributions.\n",
    "\n",
    "# norm.rvs() generates random normal variables, \n",
    "# default is standard normal distribution.\n",
    "# 'data' is N(5,1) distributed \n",
    "data=norm.rvs(size=50,loc=5)\n",
    "data[0:4]"
   ]
  },
  {
   "cell_type": "code",
   "execution_count": 2,
   "metadata": {
    "collapsed": true
   },
   "outputs": [],
   "source": [
    "# Here we want to minimise the negative log-likelihood function\n",
    "import numpy as np\n",
    "def nllh(mu):\n",
    "    z=norm.pdf(data,scale=1,loc=mu).prod()\n",
    "    return(-np.log(z))"
   ]
  },
  {
   "cell_type": "code",
   "execution_count": 3,
   "metadata": {
    "collapsed": true
   },
   "outputs": [],
   "source": [
    "# import minimisation function\n",
    "from scipy.optimize import minimize"
   ]
  },
  {
   "cell_type": "code",
   "execution_count": 4,
   "metadata": {},
   "outputs": [
    {
     "data": {
      "text/plain": [
       " final_simplex: (array([[ 4.94769287],\n",
       "       [ 4.9477478 ]]), array([ 71.5976041 ,  71.59760413]))\n",
       "           fun: 71.59760409601401\n",
       "       message: 'Optimization terminated successfully.'\n",
       "          nfev: 38\n",
       "           nit: 19\n",
       "        status: 0\n",
       "       success: True\n",
       "             x: array([ 4.94769287])"
      ]
     },
     "execution_count": 4,
     "metadata": {},
     "output_type": "execute_result"
    }
   ],
   "source": [
    "# choose a starting point, 9\n",
    "# choose an optimisation method, Nelder-Mead\n",
    "minimize(nllh,9,method='Nelder-Mead')"
   ]
  },
  {
   "cell_type": "code",
   "execution_count": 5,
   "metadata": {
    "collapsed": true
   },
   "outputs": [],
   "source": [
    "# x is the final value of mu\n",
    "# fun is final negative log-likelihood value"
   ]
  },
  {
   "cell_type": "code",
   "execution_count": 6,
   "metadata": {
    "collapsed": true
   },
   "outputs": [],
   "source": [
    "# Example 2: Area of a semi-circle\n",
    "# y=sqrt(1-x^2)\n",
    "def y(x):\n",
    "    z=(1-x**2)**(0.5)\n",
    "    return(z)"
   ]
  },
  {
   "cell_type": "code",
   "execution_count": 7,
   "metadata": {
    "collapsed": true
   },
   "outputs": [],
   "source": [
    "# import integrate package \n",
    "import scipy.integrate as integrate"
   ]
  },
  {
   "cell_type": "code",
   "execution_count": 8,
   "metadata": {},
   "outputs": [
    {
     "data": {
      "text/plain": [
       "(1.5707963267948983, 1.0002354500215915e-09)"
      ]
     },
     "execution_count": 8,
     "metadata": {},
     "output_type": "execute_result"
    }
   ],
   "source": [
    "# quad() calculates definite integral\n",
    "integrate.quad(y, -1, 1)\n",
    "# output is (estimate,upper bound of error)"
   ]
  },
  {
   "cell_type": "code",
   "execution_count": 9,
   "metadata": {
    "collapsed": true
   },
   "outputs": [],
   "source": [
    "# the result is 1.57, half pi"
   ]
  }
 ],
 "metadata": {
  "kernelspec": {
   "display_name": "Python 3",
   "language": "python",
   "name": "python3"
  },
  "language_info": {
   "codemirror_mode": {
    "name": "ipython",
    "version": 3
   },
   "file_extension": ".py",
   "mimetype": "text/x-python",
   "name": "python",
   "nbconvert_exporter": "python",
   "pygments_lexer": "ipython3",
   "version": "3.6.1"
  }
 },
 "nbformat": 4,
 "nbformat_minor": 2
}
