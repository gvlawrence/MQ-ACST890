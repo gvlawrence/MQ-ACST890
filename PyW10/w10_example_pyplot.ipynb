{
 "cells": [
  {
   "cell_type": "code",
   "execution_count": 1,
   "metadata": {
    "scrolled": true
   },
   "outputs": [],
   "source": [
    "import pandas as pd\n",
    "cusdet=pd.read_csv('/Users/xiyongzhang/documents/MQ/RA_ACST890_notes/w10_example_pandas_data.csv')"
   ]
  },
  {
   "cell_type": "code",
   "execution_count": 2,
   "metadata": {
    "collapsed": true
   },
   "outputs": [],
   "source": [
    "# the plot function is included in matplotlib.pyplot package\n",
    "import matplotlib.pyplot as plt"
   ]
  },
  {
   "cell_type": "code",
   "execution_count": 3,
   "metadata": {},
   "outputs": [
    {
     "data": {
      "image/png": "[encoded data removed]",
      "text/plain": [
       "<matplotlib.figure.Figure at 0x10ba17cf8>"
      ]
     },
     "metadata": {},
     "output_type": "display_data"
    }
   ],
   "source": [
    "# Bar Plot\n",
    "\n",
    "# Task: Plot a graph which shows quantity of purchase by each customer in a descending order\n",
    "\n",
    "# Preparing data\n",
    "d=cusdet[['Customer','item']].sort_values(by='item',ascending=0)\n",
    "\n",
    "# plt.bar(x,y) first two argument is essential\n",
    "# x is position/order of bars, example, [2,1] will plot second row before first row\n",
    "# y is bar height\n",
    "x=range(len(d['Customer']))  \n",
    "plt.bar(x,d['item'],width=0.5,tick_label=d['Customer'])\n",
    "# tick_label assigns the label of data \n",
    "\n",
    "plt.show()"
   ]
  },
  {
   "cell_type": "code",
   "execution_count": 4,
   "metadata": {},
   "outputs": [
    {
     "data": {
      "image/png": "[encoded data removed]",
      "text/plain": [
       "<matplotlib.figure.Figure at 0x10ba17860>"
      ]
     },
     "metadata": {},
     "output_type": "display_data"
    }
   ],
   "source": [
    "# Scattered plot\n",
    "# Task: Plot quantity of purchase against age\n",
    "plt.plot(cusdet['age'],cusdet['item'],'ro')\n",
    "# without 'ro' it will produce line plot\n",
    "\n",
    "# we can lable axis\n",
    "plt.title('Age vs Item')\n",
    "plt.xlabel('Age')\n",
    "plt.ylabel('Items')\n",
    "\n",
    "plt.show()"
   ]
  },
  {
   "cell_type": "code",
   "execution_count": 5,
   "metadata": {},
   "outputs": [
    {
     "data": {
      "image/png": "[encoded data removed]",
      "text/plain": [
       "<matplotlib.figure.Figure at 0x10fa78fd0>"
      ]
     },
     "metadata": {},
     "output_type": "display_data"
    }
   ],
   "source": [
    "# Box plot: \n",
    "# Taks: plot a set of normal and exponential random variables \n",
    "\n",
    "# Firstly, generate data\n",
    "import scipy.stats as st\n",
    "# Let N1~N(0,1) and E1~Exp(1)\n",
    "N1=[st.norm.rvs(0,1) for i in range(1000)]\n",
    "E1=[st.expon.rvs(1) for i in range(1000)]\n",
    "data=[N1,E1]\n",
    "\n",
    "# Plot\n",
    "plt.boxplot(data)\n",
    "\n",
    "# xticks(position, label)\n",
    "plt.xticks([1,2],('N(0,1)', 'Exp(1)'))\n",
    "\n",
    "plt.show()"
   ]
  }
 ],
 "metadata": {
  "kernelspec": {
   "display_name": "Python 3",
   "language": "python",
   "name": "python3"
  },
  "language_info": {
   "codemirror_mode": {
    "name": "ipython",
    "version": 3
   },
   "file_extension": ".py",
   "mimetype": "text/x-python",
   "name": "python",
   "nbconvert_exporter": "python",
   "pygments_lexer": "ipython3",
   "version": "3.6.1"
  }
 },
 "nbformat": 4,
 "nbformat_minor": 2
}
