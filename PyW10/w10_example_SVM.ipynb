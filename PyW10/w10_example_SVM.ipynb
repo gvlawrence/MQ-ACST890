{
 "cells": [
  {
   "cell_type": "code",
   "execution_count": 1,
   "metadata": {
    "collapsed": true
   },
   "outputs": [],
   "source": [
    "# Same loan dataset\n",
    "import pickle\n",
    "ofname = open('/Users/xiyongzhang/documents/MQ/RA_ACST890_notes/dataset_small.pkl','rb') \n",
    "(x,y)=pickle.load(ofname,encoding='bytes')"
   ]
  },
  {
   "cell_type": "code",
   "execution_count": 2,
   "metadata": {},
   "outputs": [
    {
     "data": {
      "text/plain": [
       "1.0"
      ]
     },
     "execution_count": 2,
     "metadata": {},
     "output_type": "execute_result"
    }
   ],
   "source": [
    "from sklearn import svm\n",
    "from sklearn import metrics\n",
    "\n",
    "# First, classify SVM model\n",
    "# Specify penalty as 0.5, and use Gaussian kernel\n",
    "clf=svm.SVC(C=1.5,kernel='rbf')\n",
    "\n",
    "# Fit model\n",
    "clf=clf.fit(x,y)\n",
    "\n",
    "# Predict\n",
    "yhat=clf.predict(x)\n",
    "\n",
    "metrics.accuracy_score(yhat, y)"
   ]
  },
  {
   "cell_type": "code",
   "execution_count": 3,
   "metadata": {
    "collapsed": true
   },
   "outputs": [],
   "source": [
    "# If assign a higher C, accuracy will improve, and reach 1\n",
    "# Try it!"
   ]
  }
 ],
 "metadata": {
  "kernelspec": {
   "display_name": "Python 3",
   "language": "python",
   "name": "python3"
  },
  "language_info": {
   "codemirror_mode": {
    "name": "ipython",
    "version": 3
   },
   "file_extension": ".py",
   "mimetype": "text/x-python",
   "name": "python",
   "nbconvert_exporter": "python",
   "pygments_lexer": "ipython3",
   "version": "3.6.1"
  }
 },
 "nbformat": 4,
 "nbformat_minor": 2
}
